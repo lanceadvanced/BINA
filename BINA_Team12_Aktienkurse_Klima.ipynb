{
 "nbformat": 4,
 "nbformat_minor": 0,
 "metadata": {
  "colab": {
   "provenance": [],
   "collapsed_sections": [
    "vnpxgXzXl2OF"
   ]
  },
  "kernelspec": {
   "name": "python3",
   "display_name": "Python 3"
  },
  "language_info": {
   "name": "python"
  }
 },
 "cells": [
  {
   "cell_type": "markdown",
   "source": [
    "# Einleitung\n",
    "In der vorliegenden Arbeit soll aufgearbeitet werden, ob Ankündigung und Inkrafttretung klimabezogener Gesetze eine Auswirkung auf die Aktienkurse von Unternehmen haben.\n",
    "\n",
    "Eingegrenzt wird dies auf die NASDAQ-kotierten Unternehmen in den USA. Jedem Unternehmen wurde dabei eine Branche zugeordnet.\n",
    "Die klimabzeogenen Gesetze wurden recherchiert und die Zeitpunkte der Ankündigung und der Inkraftretung ebenfalls zusammengefasst.\n",
    "\n",
    "Die Daten zu den Unternehmen und den Gesetzen wurden in JSON Objekten gespeichert, diese werden dann automatisiert in die Berechnungen in python einbezogen. Das Vorgehen ist an den jeweiligen Stellen erläutert."
   ],
   "metadata": {
    "id": "V32w1GKcdccq"
   }
  },
  {
   "cell_type": "markdown",
   "source": [
    "# Technische Vorbereitung\n",
    "Für den Bezug Aktienkursdaten wird das package \"yfinance\" (https://pypi.org/project/yfinance/) verwendet. Der erste Codeblock muss daher zwingend immer ausgeführt werden, damit die Daten zu den Aktienkursen abgefragt werden können."
   ],
   "metadata": {
    "id": "vnpxgXzXl2OF"
   }
  },
  {
   "cell_type": "code",
   "source": [
    "# Install required package to download market data from Yahoo! Finance\n",
    "\n",
    "!pip install yfinance"
   ],
   "metadata": {
    "colab": {
     "base_uri": "https://localhost:8080/"
    },
    "id": "dUXO88CSe5PH",
    "outputId": "49357f48-2f98-47f8-c4dd-e722c6d162f2"
   },
   "execution_count": null,
   "outputs": [
    {
     "output_type": "stream",
     "name": "stdout",
     "text": [
      "Looking in indexes: https://pypi.org/simple, https://us-python.pkg.dev/colab-wheels/public/simple/\n",
      "Requirement already satisfied: yfinance in /usr/local/lib/python3.10/dist-packages (0.2.18)\n",
      "Requirement already satisfied: lxml>=4.9.1 in /usr/local/lib/python3.10/dist-packages (from yfinance) (4.9.2)\n",
      "Requirement already satisfied: html5lib>=1.1 in /usr/local/lib/python3.10/dist-packages (from yfinance) (1.1)\n",
      "Requirement already satisfied: appdirs>=1.4.4 in /usr/local/lib/python3.10/dist-packages (from yfinance) (1.4.4)\n",
      "Requirement already satisfied: pandas>=1.3.0 in /usr/local/lib/python3.10/dist-packages (from yfinance) (1.5.3)\n",
      "Requirement already satisfied: pytz>=2022.5 in /usr/local/lib/python3.10/dist-packages (from yfinance) (2022.7.1)\n",
      "Requirement already satisfied: cryptography>=3.3.2 in /usr/local/lib/python3.10/dist-packages (from yfinance) (40.0.2)\n",
      "Requirement already satisfied: numpy>=1.16.5 in /usr/local/lib/python3.10/dist-packages (from yfinance) (1.22.4)\n",
      "Requirement already satisfied: beautifulsoup4>=4.11.1 in /usr/local/lib/python3.10/dist-packages (from yfinance) (4.11.2)\n",
      "Requirement already satisfied: frozendict>=2.3.4 in /usr/local/lib/python3.10/dist-packages (from yfinance) (2.3.7)\n",
      "Requirement already satisfied: requests>=2.26 in /usr/local/lib/python3.10/dist-packages (from yfinance) (2.27.1)\n",
      "Requirement already satisfied: multitasking>=0.0.7 in /usr/local/lib/python3.10/dist-packages (from yfinance) (0.0.11)\n",
      "Requirement already satisfied: soupsieve>1.2 in /usr/local/lib/python3.10/dist-packages (from beautifulsoup4>=4.11.1->yfinance) (2.4.1)\n",
      "Requirement already satisfied: cffi>=1.12 in /usr/local/lib/python3.10/dist-packages (from cryptography>=3.3.2->yfinance) (1.15.1)\n",
      "Requirement already satisfied: webencodings in /usr/local/lib/python3.10/dist-packages (from html5lib>=1.1->yfinance) (0.5.1)\n",
      "Requirement already satisfied: six>=1.9 in /usr/local/lib/python3.10/dist-packages (from html5lib>=1.1->yfinance) (1.16.0)\n",
      "Requirement already satisfied: python-dateutil>=2.8.1 in /usr/local/lib/python3.10/dist-packages (from pandas>=1.3.0->yfinance) (2.8.2)\n",
      "Requirement already satisfied: charset-normalizer~=2.0.0 in /usr/local/lib/python3.10/dist-packages (from requests>=2.26->yfinance) (2.0.12)\n",
      "Requirement already satisfied: idna<4,>=2.5 in /usr/local/lib/python3.10/dist-packages (from requests>=2.26->yfinance) (3.4)\n",
      "Requirement already satisfied: urllib3<1.27,>=1.21.1 in /usr/local/lib/python3.10/dist-packages (from requests>=2.26->yfinance) (1.26.15)\n",
      "Requirement already satisfied: certifi>=2017.4.17 in /usr/local/lib/python3.10/dist-packages (from requests>=2.26->yfinance) (2022.12.7)\n",
      "Requirement already satisfied: pycparser in /usr/local/lib/python3.10/dist-packages (from cffi>=1.12->cryptography>=3.3.2->yfinance) (2.21)\n"
     ]
    }
   ]
  },
  {
   "cell_type": "code",
   "source": [
    "# Testblock to ensure yfinance installation was successful\n",
    "# Expected output: Market data from APPLE INC. for 1st of February 2023 in CSV format\n",
    "\n",
    "from __future__ import print_function\n",
    "\n",
    "import sys\n",
    "\n",
    "import yfinance as yf\n",
    "\n",
    "\n",
    "def get_symbol_history(symbol, start, end):\n",
    "    ticker = yf.Ticker(symbol)\n",
    "    history = ticker.history(start=start, end=end)\n",
    "    print(history.to_csv())\n",
    "\n",
    "get_symbol_history('AAPL', '2023-02-01', '2023-02-2')"
   ],
   "metadata": {
    "id": "oc9809-1jBm4"
   },
   "execution_count": null,
   "outputs": []
  },
  {
   "cell_type": "markdown",
   "source": [
    "# Coding"
   ],
   "metadata": {
    "id": "z630JXxSlj7_"
   }
  },
  {
   "cell_type": "code",
   "source": [
    "from ftplib import FTP\n",
    "from io import BytesIO\n",
    "import random\n",
    "import yfinance as yf\n",
    "# Testing automated retrieving of market data\n",
    "\n",
    "#s1 Create a connection to Nasdaq FTP server to retrieve symbols\n",
    "host = 'ftp.nasdaqtrader.com'\n",
    "path = 'SymbolDirectory'\n",
    "symbolFile = 'nasdaqlisted.txt'\n",
    "\n",
    "reader = BytesIO()\n",
    "\n",
    "ftp = FTP(host)\n",
    "ftp.login()\n",
    "ftp.cwd(path)\n",
    "ftp.retrbinary('RETR ' + symbolFile, reader.write)\n",
    "\n",
    "symbols = reader.getvalue().decode('ascii').split('\\r\\n')\n",
    "symbols.pop(0)\n",
    "for index, symbol in enumerate(symbols):\n",
    "    symbols[index] = symbols[index].split('|')[0]\n",
    "\n",
    "#s2 Choose 5 random symbols\n",
    "querySymbols = []\n",
    "for i in range(5):\n",
    "  randomIndex = random.randint(0, len(symbols) - 1)\n",
    "  querySymbols.append(symbols[randomIndex])\n",
    "\n",
    "#s3 Fetch market data for the random symbols\n",
    "start = '2023-01-01'\n",
    "end = '2023-01-31'\n",
    "querySymbolData = dict()\n",
    "for symbol in querySymbols:\n",
    "  querySymbolData[symbol] = yf.download(symbol, start = start, end = end, progress = False)\n",
    "\n",
    "print(querySymbolData)\n",
    "\n",
    "\n",
    "\n",
    "\n",
    "\n",
    "\n",
    "\n"
   ],
   "metadata": {
    "colab": {
     "base_uri": "https://localhost:8080/"
    },
    "id": "2hJ9wab9jqxv",
    "outputId": "59b92339-e784-452d-d35a-1ebf2611171f"
   },
   "execution_count": 20,
   "outputs": [
    {
     "output_type": "stream",
     "name": "stdout",
     "text": [
      "{'EWCZ':                  Open       High        Low      Close  Adj Close  Volume\n",
      "Date                                                                     \n",
      "2023-01-03  12.620000  13.040000  12.565000  13.000000  13.000000  313400\n",
      "2023-01-04  13.130000  13.760000  13.020000  13.750000  13.750000  265600\n",
      "2023-01-05  13.500000  13.740000  13.250000  13.570000  13.570000  165200\n",
      "2023-01-06  13.580000  13.730000  13.485000  13.550000  13.550000  207000\n",
      "2023-01-09  13.740000  16.080000  13.740000  15.660000  15.660000  732600\n",
      "2023-01-10  16.059999  16.540001  15.450000  15.740000  15.740000  585700\n",
      "2023-01-11  15.890000  16.260000  15.739000  15.930000  15.930000  202500\n",
      "2023-01-12  16.000000  16.730000  15.490000  16.450001  16.450001  197400\n",
      "2023-01-13  16.299999  16.740000  16.120001  16.620001  16.620001  169100\n",
      "2023-01-17  16.650000  16.910000  16.150000  16.799999  16.799999  294900\n",
      "2023-01-18  17.020000  17.209999  16.805000  16.959999  16.959999  451500\n",
      "2023-01-19  16.840000  17.155001  16.639999  17.040001  17.040001  289700\n",
      "2023-01-20  17.260000  17.590000  17.020000  17.500000  17.500000  370500\n",
      "2023-01-23  17.500000  18.010000  17.495001  17.764999  17.764999  422800\n",
      "2023-01-24  17.700001  18.049999  17.559999  17.629999  17.629999  470200\n",
      "2023-01-25  17.350000  18.120001  17.170000  17.940001  17.940001  576600\n",
      "2023-01-26  18.000000  18.250000  17.469999  17.740000  17.740000  430400\n",
      "2023-01-27  17.709999  18.379999  17.600000  18.260000  18.260000  198100\n",
      "2023-01-30  18.250000  18.690001  17.660000  18.530001  18.530001  333500, 'GIA':              Open   High     Low  Close  Adj Close  Volume\n",
      "Date                                                      \n",
      "2023-01-03  10.20  10.20  10.200  10.20      10.20       0\n",
      "2023-01-04  10.39  10.42  10.250  10.40      10.40    9100\n",
      "2023-01-05  10.39  10.39  10.390  10.39      10.39     100\n",
      "2023-01-06  10.38  10.38  10.290  10.29      10.29     500\n",
      "2023-01-09  10.29  10.31  10.290  10.31      10.31    1800\n",
      "2023-01-10  10.32  10.37  10.315  10.32      10.32    2300\n",
      "2023-01-11  10.36  10.37  10.350  10.37      10.37    1900\n",
      "2023-01-12  10.35  10.35  10.350  10.35      10.35    2700\n",
      "2023-01-13  10.35  10.37  10.330  10.33      10.33    5100\n",
      "2023-01-17  10.33  10.33  10.330  10.33      10.33       0\n",
      "2023-01-18  10.33  10.33  10.330  10.33      10.33    3700\n",
      "2023-01-19  10.33  10.33  10.330  10.33      10.33       0\n",
      "2023-01-20  10.32  10.35  10.320  10.35      10.35   10600\n",
      "2023-01-23  10.33  10.34  10.330  10.33      10.33     500\n",
      "2023-01-24  10.34  10.34  10.340  10.34      10.34     100\n",
      "2023-01-25  10.33  10.33  10.330  10.33      10.33    3700\n",
      "2023-01-26  10.34  10.35  10.340  10.35      10.35   14700\n",
      "2023-01-27  10.35  10.35  10.350  10.35      10.35       0\n",
      "2023-01-30  10.35  10.35  10.350  10.35      10.35       0, 'AIH':              Open   High    Low  Close  Adj Close  Volume\n",
      "Date                                                     \n",
      "2023-01-03  1.480  1.480  1.230  1.390      1.390   17600\n",
      "2023-01-04  1.354  1.450  1.354  1.440      1.440    7300\n",
      "2023-01-05  1.560  1.560  1.350  1.400      1.400    4200\n",
      "2023-01-06  1.420  1.420  1.360  1.360      1.360    3600\n",
      "2023-01-09  1.440  1.450  1.400  1.450      1.450   36000\n",
      "2023-01-10  1.460  1.600  1.460  1.500      1.500    5800\n",
      "2023-01-11  1.555  1.600  1.555  1.600      1.600    1100\n",
      "2023-01-12  1.590  1.600  1.590  1.600      1.600     900\n",
      "2023-01-13  1.590  1.591  1.534  1.573      1.573    8000\n",
      "2023-01-17  1.513  1.600  1.513  1.530      1.530    3400\n",
      "2023-01-18  1.501  1.501  1.420  1.464      1.464   10200\n",
      "2023-01-19  1.430  1.480  1.361  1.480      1.480    2600\n",
      "2023-01-20  1.525  1.568  1.525  1.540      1.540    2300\n",
      "2023-01-23  1.540  1.550  1.520  1.520      1.520    5800\n",
      "2023-01-24  1.650  1.650  1.650  1.650      1.650    1000\n",
      "2023-01-25  1.620  1.633  1.590  1.610      1.610    3100\n",
      "2023-01-26  1.560  1.570  1.560  1.570      1.570    4800\n",
      "2023-01-27  1.600  1.682  1.600  1.682      1.682    1700\n",
      "2023-01-30  1.600  1.636  1.600  1.636      1.636    1100, 'MINM':             Open  High   Low  Close  Adj Close  Volume\n",
      "Date                                                  \n",
      "2023-01-03  4.75  4.75  4.25   4.50       4.50    5472\n",
      "2023-01-04  4.50  4.75  4.50   4.50       4.50    6248\n",
      "2023-01-05  4.75  5.25  4.50   5.00       5.00    3880\n",
      "2023-01-06  5.25  5.25  4.75   5.00       5.00   17096\n",
      "2023-01-09  4.75  5.50  4.75   5.00       5.00   15896\n",
      "2023-01-10  5.00  5.25  4.75   5.25       5.25   15288\n",
      "2023-01-11  5.00  5.25  4.75   5.00       5.00    2540\n",
      "2023-01-12  5.00  5.00  4.75   4.75       4.75    6160\n",
      "2023-01-13  5.00  5.00  4.75   5.00       5.00    2520\n",
      "2023-01-17  5.00  5.00  4.75   4.75       4.75    7412\n",
      "2023-01-18  5.00  5.50  4.75   5.00       5.00   31268\n",
      "2023-01-19  5.00  5.50  5.00   5.00       5.00    3632\n",
      "2023-01-20  5.25  5.50  5.00   5.00       5.00    7880\n",
      "2023-01-23  5.25  5.25  4.75   5.00       5.00   10584\n",
      "2023-01-24  5.00  5.00  4.75   5.00       5.00    6000\n",
      "2023-01-25  4.75  5.25  4.75   5.00       5.00   18644\n",
      "2023-01-26  5.25  5.50  5.00   5.25       5.25   29860\n",
      "2023-01-27  5.25  5.50  5.00   5.50       5.50   23304\n",
      "2023-01-30  5.50  5.75  5.00   5.00       5.00   30900, 'EVLV':             Open   High    Low  Close  Adj Close   Volume\n",
      "Date                                                     \n",
      "2023-01-03  2.55  2.680  2.420   2.47       2.47   413900\n",
      "2023-01-04  2.45  2.570  2.400   2.52       2.52   336000\n",
      "2023-01-05  2.45  2.450  2.290   2.38       2.38   587500\n",
      "2023-01-06  2.35  2.555  2.295   2.51       2.51   401500\n",
      "2023-01-09  2.51  2.620  2.485   2.49       2.49   321300\n",
      "2023-01-10  2.49  2.540  2.330   2.37       2.37   412600\n",
      "2023-01-11  2.41  2.465  2.355   2.39       2.39   216600\n",
      "2023-01-12  2.45  2.870  2.450   2.84       2.84   781400\n",
      "2023-01-13  2.79  3.075  2.790   2.95       2.95  1095500\n",
      "2023-01-17  2.98  2.980  2.800   2.83       2.83   370500\n",
      "2023-01-18  2.83  2.960  2.810   2.92       2.92   627300\n",
      "2023-01-19  2.88  2.910  2.770   2.82       2.82   448500\n",
      "2023-01-20  2.88  2.880  2.650   2.84       2.84   677200\n",
      "2023-01-23  2.90  2.965  2.820   2.93       2.93   465700\n",
      "2023-01-24  2.86  2.940  2.820   2.84       2.84   310500\n",
      "2023-01-25  2.82  2.875  2.710   2.86       2.86   300900\n",
      "2023-01-26  2.90  2.910  2.795   2.87       2.87   326900\n",
      "2023-01-27  2.83  3.015  2.820   3.00       3.00   362600\n",
      "2023-01-30  2.93  3.085  2.930   3.04       3.04   308900}\n"
     ]
    }
   ]
  }
 ]
}
